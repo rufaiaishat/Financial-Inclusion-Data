{
  "nbformat": 4,
  "nbformat_minor": 0,
  "metadata": {
    "colab": {
      "provenance": [],
      "authorship_tag": "ABX9TyM6DQ0weE7NrGcx/X1IbRFT",
      "include_colab_link": true
    },
    "kernelspec": {
      "name": "python3",
      "display_name": "Python 3"
    },
    "language_info": {
      "name": "python"
    }
  },
  "cells": [
    {
      "cell_type": "markdown",
      "metadata": {
        "id": "view-in-github",
        "colab_type": "text"
      },
      "source": [
        "<a href=\"https://colab.research.google.com/github/rufaiaishat/Financial-Inclusion-Data/blob/main/Financial_Inclusion_Nigeria.ipynb\" target=\"_parent\"><img src=\"https://colab.research.google.com/assets/colab-badge.svg\" alt=\"Open In Colab\"/></a>"
      ]
    },
    {
      "cell_type": "markdown",
      "source": [
        "##Financial Inclusion in Nigeria"
      ],
      "metadata": {
        "id": "bXgTDLmI17mH"
      }
    },
    {
      "cell_type": "markdown",
      "source": [
        "####Exploratory Data Analysis"
      ],
      "metadata": {
        "id": "foR5NGyz17TJ"
      }
    },
    {
      "cell_type": "code",
      "execution_count": null,
      "metadata": {
        "id": "h_hQLrsr9inc"
      },
      "outputs": [],
      "source": [
        "#Financial Inclusion in Nigeria\n",
        "#import file\n",
        "import pandas as pd\n",
        "import numpy as np\n",
        "import matplotlib.pyplot as plt\n",
        "import seaborn as sns\n"
      ]
    },
    {
      "cell_type": "code",
      "source": [
        "#import file from laptop\n",
        "from google.colab import files\n",
        "uploaded = files.upload()"
      ],
      "metadata": {
        "colab": {
          "base_uri": "https://localhost:8080/"
        },
        "id": "5Rmh3_g093YK",
        "outputId": "acdae599-7e3d-4566-ffcf-09b76cf1ecf4"
      },
      "execution_count": null,
      "outputs": [
        {
          "output_type": "display_data",
          "data": {
            "text/plain": [
              "<IPython.core.display.HTML object>"
            ],
            "text/html": [
              "\n",
              "     <input type=\"file\" id=\"files-d4868dea-f923-4426-ab95-6b5e807a9cf2\" name=\"files[]\" multiple disabled\n",
              "        style=\"border:none\" />\n",
              "     <output id=\"result-d4868dea-f923-4426-ab95-6b5e807a9cf2\">\n",
              "      Upload widget is only available when the cell has been executed in the\n",
              "      current browser session. Please rerun this cell to enable.\n",
              "      </output>\n",
              "      <script>// Copyright 2017 Google LLC\n",
              "//\n",
              "// Licensed under the Apache License, Version 2.0 (the \"License\");\n",
              "// you may not use this file except in compliance with the License.\n",
              "// You may obtain a copy of the License at\n",
              "//\n",
              "//      http://www.apache.org/licenses/LICENSE-2.0\n",
              "//\n",
              "// Unless required by applicable law or agreed to in writing, software\n",
              "// distributed under the License is distributed on an \"AS IS\" BASIS,\n",
              "// WITHOUT WARRANTIES OR CONDITIONS OF ANY KIND, either express or implied.\n",
              "// See the License for the specific language governing permissions and\n",
              "// limitations under the License.\n",
              "\n",
              "/**\n",
              " * @fileoverview Helpers for google.colab Python module.\n",
              " */\n",
              "(function(scope) {\n",
              "function span(text, styleAttributes = {}) {\n",
              "  const element = document.createElement('span');\n",
              "  element.textContent = text;\n",
              "  for (const key of Object.keys(styleAttributes)) {\n",
              "    element.style[key] = styleAttributes[key];\n",
              "  }\n",
              "  return element;\n",
              "}\n",
              "\n",
              "// Max number of bytes which will be uploaded at a time.\n",
              "const MAX_PAYLOAD_SIZE = 100 * 1024;\n",
              "\n",
              "function _uploadFiles(inputId, outputId) {\n",
              "  const steps = uploadFilesStep(inputId, outputId);\n",
              "  const outputElement = document.getElementById(outputId);\n",
              "  // Cache steps on the outputElement to make it available for the next call\n",
              "  // to uploadFilesContinue from Python.\n",
              "  outputElement.steps = steps;\n",
              "\n",
              "  return _uploadFilesContinue(outputId);\n",
              "}\n",
              "\n",
              "// This is roughly an async generator (not supported in the browser yet),\n",
              "// where there are multiple asynchronous steps and the Python side is going\n",
              "// to poll for completion of each step.\n",
              "// This uses a Promise to block the python side on completion of each step,\n",
              "// then passes the result of the previous step as the input to the next step.\n",
              "function _uploadFilesContinue(outputId) {\n",
              "  const outputElement = document.getElementById(outputId);\n",
              "  const steps = outputElement.steps;\n",
              "\n",
              "  const next = steps.next(outputElement.lastPromiseValue);\n",
              "  return Promise.resolve(next.value.promise).then((value) => {\n",
              "    // Cache the last promise value to make it available to the next\n",
              "    // step of the generator.\n",
              "    outputElement.lastPromiseValue = value;\n",
              "    return next.value.response;\n",
              "  });\n",
              "}\n",
              "\n",
              "/**\n",
              " * Generator function which is called between each async step of the upload\n",
              " * process.\n",
              " * @param {string} inputId Element ID of the input file picker element.\n",
              " * @param {string} outputId Element ID of the output display.\n",
              " * @return {!Iterable<!Object>} Iterable of next steps.\n",
              " */\n",
              "function* uploadFilesStep(inputId, outputId) {\n",
              "  const inputElement = document.getElementById(inputId);\n",
              "  inputElement.disabled = false;\n",
              "\n",
              "  const outputElement = document.getElementById(outputId);\n",
              "  outputElement.innerHTML = '';\n",
              "\n",
              "  const pickedPromise = new Promise((resolve) => {\n",
              "    inputElement.addEventListener('change', (e) => {\n",
              "      resolve(e.target.files);\n",
              "    });\n",
              "  });\n",
              "\n",
              "  const cancel = document.createElement('button');\n",
              "  inputElement.parentElement.appendChild(cancel);\n",
              "  cancel.textContent = 'Cancel upload';\n",
              "  const cancelPromise = new Promise((resolve) => {\n",
              "    cancel.onclick = () => {\n",
              "      resolve(null);\n",
              "    };\n",
              "  });\n",
              "\n",
              "  // Wait for the user to pick the files.\n",
              "  const files = yield {\n",
              "    promise: Promise.race([pickedPromise, cancelPromise]),\n",
              "    response: {\n",
              "      action: 'starting',\n",
              "    }\n",
              "  };\n",
              "\n",
              "  cancel.remove();\n",
              "\n",
              "  // Disable the input element since further picks are not allowed.\n",
              "  inputElement.disabled = true;\n",
              "\n",
              "  if (!files) {\n",
              "    return {\n",
              "      response: {\n",
              "        action: 'complete',\n",
              "      }\n",
              "    };\n",
              "  }\n",
              "\n",
              "  for (const file of files) {\n",
              "    const li = document.createElement('li');\n",
              "    li.append(span(file.name, {fontWeight: 'bold'}));\n",
              "    li.append(span(\n",
              "        `(${file.type || 'n/a'}) - ${file.size} bytes, ` +\n",
              "        `last modified: ${\n",
              "            file.lastModifiedDate ? file.lastModifiedDate.toLocaleDateString() :\n",
              "                                    'n/a'} - `));\n",
              "    const percent = span('0% done');\n",
              "    li.appendChild(percent);\n",
              "\n",
              "    outputElement.appendChild(li);\n",
              "\n",
              "    const fileDataPromise = new Promise((resolve) => {\n",
              "      const reader = new FileReader();\n",
              "      reader.onload = (e) => {\n",
              "        resolve(e.target.result);\n",
              "      };\n",
              "      reader.readAsArrayBuffer(file);\n",
              "    });\n",
              "    // Wait for the data to be ready.\n",
              "    let fileData = yield {\n",
              "      promise: fileDataPromise,\n",
              "      response: {\n",
              "        action: 'continue',\n",
              "      }\n",
              "    };\n",
              "\n",
              "    // Use a chunked sending to avoid message size limits. See b/62115660.\n",
              "    let position = 0;\n",
              "    do {\n",
              "      const length = Math.min(fileData.byteLength - position, MAX_PAYLOAD_SIZE);\n",
              "      const chunk = new Uint8Array(fileData, position, length);\n",
              "      position += length;\n",
              "\n",
              "      const base64 = btoa(String.fromCharCode.apply(null, chunk));\n",
              "      yield {\n",
              "        response: {\n",
              "          action: 'append',\n",
              "          file: file.name,\n",
              "          data: base64,\n",
              "        },\n",
              "      };\n",
              "\n",
              "      let percentDone = fileData.byteLength === 0 ?\n",
              "          100 :\n",
              "          Math.round((position / fileData.byteLength) * 100);\n",
              "      percent.textContent = `${percentDone}% done`;\n",
              "\n",
              "    } while (position < fileData.byteLength);\n",
              "  }\n",
              "\n",
              "  // All done.\n",
              "  yield {\n",
              "    response: {\n",
              "      action: 'complete',\n",
              "    }\n",
              "  };\n",
              "}\n",
              "\n",
              "scope.google = scope.google || {};\n",
              "scope.google.colab = scope.google.colab || {};\n",
              "scope.google.colab._files = {\n",
              "  _uploadFiles,\n",
              "  _uploadFilesContinue,\n",
              "};\n",
              "})(self);\n",
              "</script> "
            ]
          },
          "metadata": {}
        }
      ]
    },
    {
      "cell_type": "code",
      "source": [
        "#read csv file into dataframe\n",
        "df = pd.read_csv('micro_nga.csv')"
      ],
      "metadata": {
        "id": "bEeJJJB_-LRr"
      },
      "execution_count": null,
      "outputs": []
    },
    {
      "cell_type": "code",
      "source": [
        "df.info()\n"
      ],
      "metadata": {
        "id": "PvlqXROC-hVX"
      },
      "execution_count": null,
      "outputs": []
    },
    {
      "cell_type": "code",
      "source": [
        "df.head()"
      ],
      "metadata": {
        "id": "nNtY1PTh-sXQ"
      },
      "execution_count": null,
      "outputs": []
    },
    {
      "cell_type": "code",
      "source": [],
      "metadata": {
        "id": "Xt5hMr6WSHiN"
      },
      "execution_count": null,
      "outputs": []
    },
    {
      "cell_type": "markdown",
      "source": [
        "###**Exploratory Data Anaalysis - for People with no bank and mobile account**\n",
        "\n",
        "In this section, we will explore the age,region, education level of individuals\n",
        "without a bank or mobile account. Also, we will analyze their financial transactions, savings, credits habits, and payment receipts. We will assess their ability to access job opportunities and other economic opportunities."
      ],
      "metadata": {
        "id": "9cjVCV2PSYuy"
      }
    },
    {
      "cell_type": "code",
      "source": [],
      "metadata": {
        "id": "s7B69pQ1U_nn"
      },
      "execution_count": null,
      "outputs": []
    },
    {
      "cell_type": "code",
      "source": [
        "#Analyse based on people who do not have an account\n",
        "mask = df['account'] == 0\n",
        "df_noaccount = df[mask]\n",
        "\n"
      ],
      "metadata": {
        "id": "XTK3cxwS_nKy"
      },
      "execution_count": null,
      "outputs": []
    },
    {
      "cell_type": "code",
      "source": [
        "df_noaccount.info()"
      ],
      "metadata": {
        "id": "hRtMSEoZl4aq"
      },
      "execution_count": null,
      "outputs": []
    },
    {
      "cell_type": "code",
      "source": [
        "#Check If people with no account have mobile account\n",
        "df_noaccount['account_mob'].tail(10)"
      ],
      "metadata": {
        "id": "GODz_heBmRzA"
      },
      "execution_count": null,
      "outputs": []
    },
    {
      "cell_type": "code",
      "source": [
        "#group Age range of preople with no account using barchart\n",
        "age_noact = df_noaccount['age']\n",
        "age_noact.value_counts()\n",
        "#group into age range"
      ],
      "metadata": {
        "id": "OET839v4qHUy"
      },
      "execution_count": null,
      "outputs": []
    },
    {
      "cell_type": "code",
      "source": [
        "#Group the age of  people with no account into Age Range\n",
        "\n",
        "# Define age group bins and labels using range format\n",
        "bins = [15, 17, 24, 34, 44, 54, 64, 74, 84, float('inf')]\n",
        "labels = ['15-17', '18-24', '25-34', '35-44', '45-54', '55-64', '65-74', '75-84','84+']\n",
        "\n",
        "# Apply age group categorization\n",
        "df_noaccount['age_group'] = pd.cut(df_noaccount['age'], bins=bins, labels=labels, right=True)\n",
        "\n",
        "# Optional: View the count in each age group\n",
        "print(df_noaccount['age_group'].value_counts().sort_index())\n"
      ],
      "metadata": {
        "id": "j_4u8VF1qUH_"
      },
      "execution_count": null,
      "outputs": []
    },
    {
      "cell_type": "code",
      "source": [
        "#Count of Age Group with Mobile or Bank Account\n",
        "age_noact = df_noaccount['age_group']\n",
        "age_noact_vc = age_noact.value_counts()\n",
        "age_noact_vc.head()"
      ],
      "metadata": {
        "id": "Cp6FXrVfv5Am"
      },
      "execution_count": null,
      "outputs": []
    },
    {
      "cell_type": "code",
      "source": [
        "#Plot barchart for the age distribution of people with no Bank Account\n",
        "age_noact_vc.plot(\n",
        "    kind =\"bar\",\n",
        "    xlabel=\"Age\",\n",
        "    ylabel=\"Frequency\",\n",
        "    title =\"Age Distribution of People with no bank or mobile account\",\n",
        ");\n",
        "\n"
      ],
      "metadata": {
        "id": "NuK5Q2Kmof9K"
      },
      "execution_count": null,
      "outputs": []
    },
    {
      "cell_type": "code",
      "source": [
        "#Group no account by region -urban/rural\n",
        "df_noaccount['urbanicity_f2f'].value_counts()"
      ],
      "metadata": {
        "id": "bprb-WI39AvM"
      },
      "execution_count": null,
      "outputs": []
    },
    {
      "cell_type": "code",
      "source": [
        "#Group no account by region -urban/rural\n",
        "urban_dict = {\n",
        "    1: \"rural\",\n",
        "    2: \"urban\"\n",
        "              }\n",
        "urban_vc = df_noaccount['urbanicity_f2f'].replace(urban_dict).value_counts()\n",
        "urban_vc.plot(\n",
        "    kind =\"bar\",\n",
        "    xlabel=\"Region\",\n",
        "    ylabel=\"Frequency\",\n",
        "    title =\" Distribution of People with no bank or mobile account in rural and urban regions\",\n",
        ");"
      ],
      "metadata": {
        "id": "cl9wu0TQDKt4"
      },
      "execution_count": null,
      "outputs": []
    },
    {
      "cell_type": "code",
      "source": [],
      "metadata": {
        "id": "Sgq8j9PpFMoO"
      },
      "execution_count": null,
      "outputs": []
    },
    {
      "cell_type": "code",
      "source": [
        "#Group no account by education\n",
        "educ_dict = {\n",
        "    1: \"Primary School or less\",\n",
        "    2: \"Completed Secondary\",\n",
        "    3: \"Completed Tertiary\"\n",
        "              }\n",
        "educ_vc = (df_noaccount['educ'].replace(educ_dict).value_counts(normalize=True))*100\n",
        "educ_vc.plot(\n",
        "    kind =\"bar\",\n",
        "    xlabel=\"Education Level\",\n",
        "    ylabel=\"Frequency\",\n",
        "    title =\" Percentage of Education Level of People(%) with no bank or mobile account \",\n",
        ");"
      ],
      "metadata": {
        "id": "-7vj1ONOCZ_4"
      },
      "execution_count": null,
      "outputs": []
    },
    {
      "cell_type": "code",
      "source": [
        "#Distribution of People with no bank account and their employment status\n",
        "\n",
        "employed = {\n",
        "    1: \"in the workforce\",\n",
        "    2: \"out of the workforce\"\n",
        "}\n",
        "employed_vc= df_noaccount['emp_in'].replace(employed).value_counts()\n",
        "employed_vc.head()\n"
      ],
      "metadata": {
        "id": "wQspYdglmD2J"
      },
      "execution_count": null,
      "outputs": []
    },
    {
      "cell_type": "code",
      "source": [
        "#Check if People with No Account receive agricultural payment\n",
        "agrcpay_vc = {\n",
        "    1: \"Yes\",\n",
        "    2: \"No\",\n",
        "    3: \"Unknown\"\n",
        "\n",
        "}\n",
        "agrcpay = df_noaccount['fin42'].replace(agrcpay_vc).value_counts()\n",
        "agrcpay.head()"
      ],
      "metadata": {
        "id": "WTqvtoeRMqYR"
      },
      "execution_count": null,
      "outputs": []
    },
    {
      "cell_type": "code",
      "source": [
        "#Check Percentage of People with No Account that are into agricultural business(either by growing crops or raising a livestock)\n",
        "agrcbus = {\n",
        "    1: \"Yes\",\n",
        "    2: \"No\",\n",
        "    3: \"Both\"\n",
        "\n",
        "}\n",
        "agrcbus_vc = df_noaccount['fin42a'].replace(agrcbus).value_counts()\n",
        "agrcbus_vc.head()"
      ],
      "metadata": {
        "id": "GMTQYtoyMqD7"
      },
      "execution_count": null,
      "outputs": []
    },
    {
      "cell_type": "code",
      "source": [
        "#Distribution of People without account that saved within the past year\n",
        "save = {\n",
        "    1: \"Yes\",\n",
        "    0: \"No\"\n",
        "}\n",
        "savings_vc= df_noaccount['saved'].replace(save).value_counts()\n",
        "savings_vc.head()"
      ],
      "metadata": {
        "id": "Acfj2uHRMp1G"
      },
      "execution_count": null,
      "outputs": []
    },
    {
      "cell_type": "code",
      "source": [
        "#Distribution of People without account that borrowed within the past year\n",
        "borrow = {\n",
        "    1: \"Yes\",\n",
        "    0: \"No\"\n",
        "}\n",
        "borrow_vc= df_noaccount['borrowed'].replace(borrow).value_counts()\n",
        "borrow_vc.head()"
      ],
      "metadata": {
        "id": "rkVjXFbVYTH9"
      },
      "execution_count": null,
      "outputs": []
    },
    {
      "cell_type": "code",
      "source": [
        "#Distribution of People without account that receive wage payment\n",
        "wage = {\n",
        "    1: \"receive payment into an Account\",\n",
        "    2: \"receive payment in cash only\",\n",
        "    3: \"receive payment using other methods\",\n",
        "    4: \"did not recieve payment\",\n",
        "    5: \"unknown\"\n",
        "}\n",
        "wage_vc= df_noaccount['receive_wages'].replace(wage).value_counts()\n",
        "wage_vc.head()"
      ],
      "metadata": {
        "id": "s4Gbw_0NYrdC"
      },
      "execution_count": null,
      "outputs": []
    },
    {
      "cell_type": "code",
      "source": [
        "#Receive a Government transfer payment\n",
        "\n",
        "govt_tfr = {\n",
        "    1: \"receive payment into an Account\",\n",
        "    2: \"receive payment in cash only\",\n",
        "    3: \"receive payment using other methods\",\n",
        "    4: \"did not recieve payment\",\n",
        "    5: \"unknown\"\n",
        "}\n",
        "govt_tfr_vc= df_noaccount['receive_transfers'].replace(govt_tfr).value_counts()\n",
        "govt_tfr_vc.head()\n"
      ],
      "metadata": {
        "id": "35NyHEvYei0g"
      },
      "execution_count": null,
      "outputs": []
    },
    {
      "cell_type": "code",
      "source": [
        "#Received a government pension payment\n",
        "govt_pen = {\n",
        "    1: \"receive payment into an Account\",\n",
        "    2: \"receive payment in cash only\",\n",
        "    3: \"receive payment using other methods\",\n",
        "    4: \"did not recieve payment\",\n",
        "    5: \"unknown\"\n",
        "}\n",
        "govt_pen_vc= df_noaccount['receive_pension'].replace(govt_pen).value_counts()\n",
        "govt_pen_vc.head()"
      ],
      "metadata": {
        "id": "d9UX8JnVepD3"
      },
      "execution_count": null,
      "outputs": []
    },
    {
      "cell_type": "code",
      "source": [
        "#Received a payment for the sale of agricultural goods\n",
        "agric_pay = {\n",
        "    1: \"receive payment into an Account\",\n",
        "    2: \"receive payment in cash only\",\n",
        "    3: \"receive payment using other methods\",\n",
        "    4: \"did not recieve payment\",\n",
        "    5: \"unknown\"\n",
        "}\n",
        "agric_pay_vc= df_noaccount['receive_agriculture'].replace(agric_pay).value_counts()\n",
        "agric_pay_vc.head()"
      ],
      "metadata": {
        "id": "bZIowKlEgm1X"
      },
      "execution_count": null,
      "outputs": []
    },
    {
      "cell_type": "code",
      "source": [
        "# Paid a utility bill\n",
        "\n",
        "util_pay = {\n",
        "    1: \"made payment into an Account\",\n",
        "    2: \"made payment in cash only\",\n",
        "    3: \"made payment using other methods\",\n",
        "    4: \"did not make payment\",\n",
        "    5: \"unknown\"\n",
        "}\n",
        "util_pay_vc= df_noaccount['pay_utilities'].replace(util_pay).value_counts()\n",
        "util_pay_vc.head()"
      ],
      "metadata": {
        "id": "tFd19MCoe1kq"
      },
      "execution_count": null,
      "outputs": []
    },
    {
      "cell_type": "code",
      "source": [
        " #Made or received a domestic remittance payment\n",
        " dom_pay = {\n",
        "    1: \"sent/received payment through an Account\",\n",
        "    2: \"sent/received payment through an otc transaction\",\n",
        "    3: \"sent/received payment in cash only\",\n",
        "    4: \"sent/received payment using other methods\",\n",
        "    5: \"did not send/receive\",\n",
        "    6: \"unknown\"\n",
        "}\n",
        "dom_pay_vc= df_noaccount['remittances'].replace(dom_pay).value_counts()\n",
        "dom_pay_vc.head()\n",
        "\n"
      ],
      "metadata": {
        "id": "S2t8Eawte90D"
      },
      "execution_count": null,
      "outputs": []
    },
    {
      "cell_type": "code",
      "source": [
        "#Distribution of People with no bank account and their employment status\n",
        "\n",
        "employed = {\n",
        "    1: \"in the workforce\",\n",
        "    2: \"out of the workforce\"\n",
        "}\n",
        "employed_vc= df_noaccount['emp_in'].replace(employed).value_counts()\n",
        "employed_vc.head()\n"
      ],
      "metadata": {
        "id": "XcuW0TgzJKYL"
      },
      "execution_count": null,
      "outputs": []
    },
    {
      "cell_type": "code",
      "source": [
        "#check for availability of phone\n",
        "\n",
        "mobile = {\n",
        "    1: \"yes\",\n",
        "    2: \"no\",\n",
        "    3: \"ref\"\n",
        "}\n",
        "mobile_vc= df_noaccount['mobileowner'].replace(mobile).value_counts()\n",
        "mobile_vc.head()\n",
        "\n"
      ],
      "metadata": {
        "id": "7Z76Uv2pYqxx"
      },
      "execution_count": null,
      "outputs": []
    },
    {
      "cell_type": "code",
      "source": [
        "#Distribution of People with internet access\n",
        "internet = {\n",
        "    1: \"yes\",\n",
        "    2: \"no\",\n",
        "    3: \"unknown\",\n",
        "    4: \"ref\"\n",
        "}\n",
        "internet_vc= df_noaccount['internetaccess'].replace(internet).value_counts()\n",
        "internet_vc.head()\n",
        "\n"
      ],
      "metadata": {
        "id": "2y4s3SEnmxbZ"
      },
      "execution_count": null,
      "outputs": []
    },
    {
      "cell_type": "markdown",
      "source": [
        "###Exploratory Data A"
      ],
      "metadata": {
        "id": "icXAUKboxM44"
      }
    },
    {
      "cell_type": "markdown",
      "source": [
        "##Exploratory Data Analysis to compare Education Levels Between People with Account and No Account"
      ],
      "metadata": {
        "id": "8bC7ZLe-wvcq"
      }
    },
    {
      "cell_type": "code",
      "source": [],
      "metadata": {
        "id": "QMUESHCaw-6r"
      },
      "execution_count": null,
      "outputs": []
    }
  ]
}